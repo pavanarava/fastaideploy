{
 "cells": [
  {
   "cell_type": "code",
   "execution_count": 1,
   "id": "690eb0a0-e934-4995-88a5-e341ab4eb304",
   "metadata": {},
   "outputs": [],
   "source": [
    "from fastai.vision.all import *\n",
    "from ipywidgets import *\n",
    "import pathlib"
   ]
  },
  {
   "cell_type": "code",
   "execution_count": null,
   "id": "2f755ff3-d6c6-4bdd-95d3-0f98cec5452e",
   "metadata": {},
   "outputs": [],
   "source": [
    "!pip install voila\n",
    "!jupyter serverextension enable --sys-prefix voila"
   ]
  },
  {
   "cell_type": "code",
   "execution_count": 2,
   "id": "837bf84e-6175-4974-a898-de7a75f163f4",
   "metadata": {},
   "outputs": [],
   "source": [
    "posix_backup = pathlib.PosixPath\n",
    "try:\n",
    "    pathlib.PosixPath = pathlib.WindowsPath\n",
    "    learn = load_learner('flowersclassifier.pkl')\n",
    "finally:\n",
    "    pathlib.PosixPath = posix_backup"
   ]
  },
  {
   "cell_type": "code",
   "execution_count": 3,
   "id": "8eaedfa4-0c79-48fc-8c50-8cb2aca2f729",
   "metadata": {},
   "outputs": [],
   "source": [
    "btn_run = widgets.Button(description='Classify')"
   ]
  },
  {
   "cell_type": "code",
   "execution_count": 4,
   "id": "6987b58d-8490-4987-bdd8-cdfb1ca7113a",
   "metadata": {},
   "outputs": [],
   "source": [
    "out_pl = widgets.Output()\n",
    "lbl_pred = widgets.Label()"
   ]
  },
  {
   "cell_type": "code",
   "execution_count": 5,
   "id": "7826c069-371d-4c90-b8aa-17e4208dddbd",
   "metadata": {},
   "outputs": [],
   "source": [
    "def on_click_classify(change):\n",
    "    img = PILImage.create(btn_upload.value[-1].name)\n",
    "    out_pl.clear_output()\n",
    "    with out_pl: display(img.to_thumb(128,128))\n",
    "    pred,pred_idx,probs = learn.predict(img)\n",
    "    lbl_pred.value = f'Prediction: {pred}; Probability: {probs[pred_idx]:.04f}'\n",
    "\n",
    "btn_run.on_click(on_click_classify)"
   ]
  },
  {
   "cell_type": "code",
   "execution_count": 6,
   "id": "9f7664a8-d49a-4b94-904a-3a9bdcdc2314",
   "metadata": {},
   "outputs": [],
   "source": [
    "btn_upload = widgets.FileUpload()"
   ]
  },
  {
   "cell_type": "code",
   "execution_count": 7,
   "id": "a7b34e6c-341a-441b-96ec-ec8531076df1",
   "metadata": {},
   "outputs": [],
   "source": [
    "def show_image(change):\n",
    "    if change.new: # Check if a file was uploaded\n",
    "        file_name = change.new[-1].name\n",
    "        img = PILImage.create(file_name)\n",
    "        out_pl.clear_output()\n",
    "        with out_pl: display(img.to_thumb(128,128))\n",
    "        lbl_pred.value = \"\""
   ]
  },
  {
   "cell_type": "code",
   "execution_count": 8,
   "id": "766b255c-ea1e-4e46-b98d-1728ed5fea98",
   "metadata": {},
   "outputs": [],
   "source": [
    "btn_upload.observe(show_image, names='value')"
   ]
  },
  {
   "cell_type": "code",
   "execution_count": 9,
   "id": "e8b0fec0-106d-415c-82ad-2912492b789c",
   "metadata": {},
   "outputs": [
    {
     "data": {
      "application/vnd.jupyter.widget-view+json": {
       "model_id": "dfe12b0a6d0f4cc384502c8ebc52e548",
       "version_major": 2,
       "version_minor": 0
      },
      "text/plain": [
       "VBox(children=(Label(value='Select your flower!'), Output(), FileUpload(value=(), description='Upload'), Butto…"
      ]
     },
     "execution_count": 9,
     "metadata": {},
     "output_type": "execute_result"
    }
   ],
   "source": [
    "VBox([widgets.Label('Select your flower!'), \n",
    "      out_pl,btn_upload, btn_run,lbl_pred])"
   ]
  }
 ],
 "metadata": {
  "kernelspec": {
   "display_name": "Python 3 (ipykernel)",
   "language": "python",
   "name": "python3"
  },
  "language_info": {
   "codemirror_mode": {
    "name": "ipython",
    "version": 3
   },
   "file_extension": ".py",
   "mimetype": "text/x-python",
   "name": "python",
   "nbconvert_exporter": "python",
   "pygments_lexer": "ipython3",
   "version": "3.12.3"
  }
 },
 "nbformat": 4,
 "nbformat_minor": 5
}
